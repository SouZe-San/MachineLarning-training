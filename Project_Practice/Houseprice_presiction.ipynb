{
 "cells": [
  {
   "cell_type": "code",
   "execution_count": null,
   "metadata": {},
   "outputs": [],
   "source": [
    "# Importing Libraries\n",
    "import numpy as np\n",
    "import pandas as pd\n",
    "import seaborn as sns\n",
    "import matplotlib.pyplot as plt\n",
    "\n",
    "from sklearn.model_selection import train_test_split\n",
    "from sklearn import metrics\n",
    "\n",
    "# Model Training Method --\n",
    "from xgboost import XGBRegressor"
   ]
  },
  {
   "attachments": {},
   "cell_type": "markdown",
   "metadata": {},
   "source": [
    "- import Dataset\n"
   ]
  },
  {
   "cell_type": "code",
   "execution_count": null,
   "metadata": {},
   "outputs": [],
   "source": [
    "# Header tag of each Columns\n",
    "column_names = ['CRIM', 'ZN', 'INDUS', 'CHAS', 'NOX', 'RM',\n",
    "                'AGE', 'DIS', 'RAD', 'TAX', 'PTRATIO', 'B', 'LSTAT', 'Price']\n",
    "\n",
    "# Import price of Housing\n",
    "df = pd.read_csv('../DataSet_Collection/houseprice.csv',\n",
    "                 header=None, delimiter=r\"\\s+\", names=column_names)\n",
    "\n",
    "# Print First 5 column\n",
    "df.head()\n",
    "\n",
    "# Row * Columns numbers\n",
    "df.shape"
   ]
  },
  {
   "attachments": {},
   "cell_type": "markdown",
   "metadata": {},
   "source": [
    "- Data Analysis\n"
   ]
  },
  {
   "cell_type": "code",
   "execution_count": null,
   "metadata": {},
   "outputs": [],
   "source": [
    "# statistical Analysis\n",
    "df.describe()"
   ]
  },
  {
   "cell_type": "code",
   "execution_count": null,
   "metadata": {},
   "outputs": [],
   "source": [
    "# Check Is their any Nan present or not\n",
    "df.isnull().sum()"
   ]
  },
  {
   "cell_type": "code",
   "execution_count": null,
   "metadata": {},
   "outputs": [],
   "source": [
    "# Check Correlation between other parameter in data\n",
    "correlation = df.corr()\n",
    "\n",
    "\n",
    "# Create a heat map\n",
    "plt.figure(figsize=(10, 10))\n",
    "sns.heatmap(correlation, cbar=True, square=True, fmt='1f',\n",
    "            annot=True, annot_kws={'size': 8}, cmap='Greens')"
   ]
  },
  {
   "attachments": {},
   "cell_type": "markdown",
   "metadata": {},
   "source": [
    "- # Data split in training features and Outcome\n"
   ]
  },
  {
   "cell_type": "code",
   "execution_count": null,
   "metadata": {},
   "outputs": [],
   "source": [
    "X = df.drop(columns='Price', axis=1)\n",
    "Y = df['Price']"
   ]
  },
  {
   "attachments": {},
   "cell_type": "markdown",
   "metadata": {},
   "source": [
    "- # Split Train Data and test Data\n"
   ]
  },
  {
   "cell_type": "code",
   "execution_count": null,
   "metadata": {},
   "outputs": [],
   "source": [
    "X_train, X_test, Y_train, Y_test = train_test_split(\n",
    "    X, Y, test_size=0.2, random_state=1)"
   ]
  },
  {
   "cell_type": "code",
   "execution_count": null,
   "metadata": {},
   "outputs": [],
   "source": [
    "print(X.shape, X_train.shape, X_test.shape)"
   ]
  },
  {
   "attachments": {},
   "cell_type": "markdown",
   "metadata": {},
   "source": [
    "# Create model and train Model\n"
   ]
  },
  {
   "cell_type": "code",
   "execution_count": null,
   "metadata": {},
   "outputs": [],
   "source": [
    "# load the model\n",
    "model = XGBRegressor()"
   ]
  },
  {
   "cell_type": "code",
   "execution_count": null,
   "metadata": {},
   "outputs": [],
   "source": [
    "# train The Model with train Data\n",
    "model.fit(X_train, Y_train)"
   ]
  },
  {
   "attachments": {},
   "cell_type": "markdown",
   "metadata": {},
   "source": [
    "# - Model Evaluation\n"
   ]
  },
  {
   "cell_type": "code",
   "execution_count": null,
   "metadata": {},
   "outputs": [],
   "source": [
    "# test model with train data\n",
    "trainData_prediction = model.predict(X_train)\n",
    "\n",
    "\n",
    "# %$$ Two Type of Error check\n",
    "# R squared error\n",
    "scoreTrain_1 = metrics.r2_score(Y_train, trainData_prediction)\n",
    "\n",
    "# Mean Absolute Error\n",
    "scoreTrain_2 = metrics.mean_absolute_error(Y_train, trainData_prediction)\n",
    "\n",
    "\n",
    "# Display the Error\n",
    "print(\" R squared Error :\", scoreTrain_1)\n",
    "print(\" Mean Absolute Error :\", scoreTrain_2)"
   ]
  },
  {
   "cell_type": "code",
   "execution_count": null,
   "metadata": {},
   "outputs": [],
   "source": [
    "# test model with test data\n",
    "testData_prediction = model.predict(X_test)\n",
    "\n",
    "\n",
    "# %$$ Two Type of Error check\n",
    "# R squared error\n",
    "scoreTest_1 = metrics.r2_score(Y_test, testData_prediction)\n",
    "\n",
    "# Mean Absolute Error\n",
    "scoreTest_2 = metrics.mean_absolute_error(Y_test, testData_prediction)\n",
    "\n",
    "\n",
    "# Display the Error\n",
    "print(\" R squared Error :\", scoreTest_1)\n",
    "print(\" Mean Absolute Error :\", scoreTest_2)"
   ]
  },
  {
   "attachments": {},
   "cell_type": "markdown",
   "metadata": {},
   "source": [
    "# Visualizing the actual and prediction\n"
   ]
  },
  {
   "cell_type": "code",
   "execution_count": null,
   "metadata": {},
   "outputs": [],
   "source": [
    "plt.scatter(Y_train, trainData_prediction)\n",
    "plt.xlabel('Actual price')\n",
    "plt.ylabel('Prediction Price')\n",
    "plt.title(\"Actual Price Vs Prediction Price\")\n",
    "plt.show()"
   ]
  },
  {
   "cell_type": "code",
   "execution_count": null,
   "metadata": {},
   "outputs": [],
   "source": []
  }
 ],
 "metadata": {
  "kernelspec": {
   "display_name": "Python 3",
   "language": "python",
   "name": "python3"
  },
  "language_info": {
   "codemirror_mode": {
    "name": "ipython",
    "version": 3
   },
   "file_extension": ".py",
   "mimetype": "text/x-python",
   "name": "python",
   "nbconvert_exporter": "python",
   "pygments_lexer": "ipython3",
   "version": "3.10.11"
  },
  "orig_nbformat": 4
 },
 "nbformat": 4,
 "nbformat_minor": 2
}
