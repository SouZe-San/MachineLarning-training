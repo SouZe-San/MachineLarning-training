{
 "cells": [
  {
   "attachments": {},
   "cell_type": "markdown",
   "metadata": {},
   "source": [
    "we have to create a model using logistic regression that Predict it MINE or ROCK\n",
    "\n",
    "Logic Regression :: it Used for prediction when, OutCome Is 0 or 1\n"
   ]
  },
  {
   "attachments": {},
   "cell_type": "markdown",
   "metadata": {},
   "source": [
    "- # **Load Dependencies And Dataset**\n"
   ]
  },
  {
   "cell_type": "code",
   "execution_count": null,
   "metadata": {},
   "outputs": [],
   "source": [
    "# Dependencies\n",
    "import pandas as pd\n",
    "import numpy as np\n",
    "\n",
    "# Train & test Data split :\n",
    "from sklearn.model_selection import train_test_split\n",
    "\n",
    "# logistic Regression Model :\n",
    "from sklearn.linear_model import LogisticRegression\n",
    "\n",
    "# Accuracy Test :\n",
    "from sklearn.metrics import accuracy_score"
   ]
  },
  {
   "cell_type": "code",
   "execution_count": null,
   "metadata": {},
   "outputs": [],
   "source": [
    "# Load the Dataset\n",
    "# header param present cause in this dataset done have any headerLable\n",
    "df = pd.read_csv('../DataSet_Collection/sonar_data.csv', header=None)\n",
    "df.head()"
   ]
  },
  {
   "attachments": {},
   "cell_type": "markdown",
   "metadata": {},
   "source": [
    "- # **Data Pre-processing**\n"
   ]
  },
  {
   "cell_type": "code",
   "execution_count": null,
   "metadata": {},
   "outputs": [],
   "source": [
    "# Statistical Analysis about the dataset :\n",
    "df.describe()"
   ]
  },
  {
   "cell_type": "code",
   "execution_count": null,
   "metadata": {},
   "outputs": [],
   "source": [
    "# Check The Data Is Imbalanced Or Not\n",
    "\n",
    "# Count Which one's Have how much data:\n",
    "df[60].value_counts()"
   ]
  },
  {
   "attachments": {},
   "cell_type": "markdown",
   "metadata": {},
   "source": [
    "this Differ Considerable ...\n"
   ]
  },
  {
   "cell_type": "code",
   "execution_count": null,
   "metadata": {},
   "outputs": [],
   "source": [
    "# Get Mean Value Corresponding the M/R two Outcome\n",
    "df.groupby(60).mean()"
   ]
  },
  {
   "cell_type": "code",
   "execution_count": null,
   "metadata": {},
   "outputs": [],
   "source": [
    "# Separating the data as Features and Labels\n",
    "\n",
    "X = df.drop(columns=60, axis=1)\n",
    "Y = df[60]"
   ]
  },
  {
   "cell_type": "code",
   "execution_count": null,
   "metadata": {},
   "outputs": [],
   "source": [
    "# Split Train And Test Data\n",
    "# stratify = y Means We want Split Base on the Data of Y and by this can get similar size of Rock & mine Data\n",
    "X_train, X_test, Y_train, Y_test = train_test_split(\n",
    "    X, Y, test_size=0.1, random_state=2, stratify=Y)"
   ]
  },
  {
   "cell_type": "code",
   "execution_count": null,
   "metadata": {},
   "outputs": [],
   "source": [
    "print(X.shape, X_train.shape, X_test.shape)"
   ]
  },
  {
   "attachments": {},
   "cell_type": "markdown",
   "metadata": {},
   "source": [
    "- # **Train The Model :** _Using Logistic Regression_\n"
   ]
  },
  {
   "cell_type": "code",
   "execution_count": null,
   "metadata": {},
   "outputs": [],
   "source": [
    "model = LogisticRegression()"
   ]
  },
  {
   "cell_type": "code",
   "execution_count": null,
   "metadata": {},
   "outputs": [],
   "source": [
    "# train  Our Logistic Regression Model With Train Data\n",
    "model.fit(X_train, Y_train)"
   ]
  },
  {
   "attachments": {},
   "cell_type": "markdown",
   "metadata": {},
   "source": [
    "- # **Model Evaluation**\n"
   ]
  },
  {
   "cell_type": "code",
   "execution_count": null,
   "metadata": {},
   "outputs": [],
   "source": [
    "# Test Accuracy on Training Data :\n",
    "\n",
    "model_prediction_trainData = model.predict(X_train)\n",
    "train_accuracy = accuracy_score(model_prediction_trainData, Y_train)\n",
    "\n",
    "# Display the Accuracy On Training Data\n",
    "print(\"Accuracy On Training Data  : \", train_accuracy)  # nearly 80%"
   ]
  },
  {
   "cell_type": "code",
   "execution_count": null,
   "metadata": {},
   "outputs": [],
   "source": [
    "# Test Accuracy On test Data :\n",
    "\n",
    "model_prediction_testData = model.predict(X_test)\n",
    "test_accuracy = accuracy_score(model_prediction_testData, Y_test)\n",
    "\n",
    "# Display The Accuracy On Test Data\n",
    "print(\" Accuracy On test Data : \", test_accuracy)  # nearly 90%"
   ]
  },
  {
   "attachments": {},
   "cell_type": "markdown",
   "metadata": {},
   "source": [
    "# **Create A Predictive System :**\n"
   ]
  },
  {
   "cell_type": "code",
   "execution_count": null,
   "metadata": {},
   "outputs": [],
   "source": [
    "# Input 1:\n",
    "# inputData = (0.0039,0.0063,0.0152,0.0336,0.0310,0.0284,0.0396,0.0272,0.0323,0.0452,0.0492,0.0996,0.1424,0.1194,0.0628,0.0907,0.1177,0.1429,0.1223,0.1104,0.1847,0.3715,0.4382,0.5707,0.6654,0.7476,0.7654,0.8555,0.9720,0.9221,0.7502,0.7209,0.7757,0.6055,0.5021,0.4499,0.3947,0.4281,0.4427,0.3749,0.1972,0.0511,0.0793,0.1269,0.1533,0.0690,0.0402,0.0534,0.0228,0.0073,0.0062,0.0062,0.0120,0.0052,0.0056,0.0093,0.0042,0.0003,0.0053,0.0036)  # ---> 'R'\n",
    "\n",
    "# Input 2:\n",
    "inputData = (0.0335, 0.0258, 0.0398, 0.0570, 0.0529, 0.1091, 0.1709, 0.1684, 0.1865, 0.2660, 0.3188, 0.3553, 0.3116, 0.1965, 0.1780, 0.2794, 0.2870, 0.3969, 0.5599, 0.6936, 0.7969, 0.7452, 0.8203, 0.9261, 0.8810, 0.8814, 0.9301, 0.9955, 0.8576, 0.6069,\n",
    "             0.3934, 0.2464, 0.1645, 0.1140, 0.0956, 0.0080, 0.0702, 0.0936, 0.0894, 0.1127, 0.0873, 0.1020, 0.1964, 0.2256, 0.1814, 0.2012, 0.1688, 0.1037, 0.0501, 0.0136, 0.0130, 0.0120, 0.0039, 0.0053, 0.0062, 0.0046, 0.0045, 0.0022, 0.0005, 0.0031)  # ---> 'M'\n",
    "\n",
    "\n",
    "# Change it into a Numpy Array\n",
    "input_data = np.asarray(inputData)\n",
    "\n",
    "# Reshape the numpy Array as we\n",
    "reshaped_Input_Data = input_data.reshape(\n",
    "    1, -1)  # (1,-1) represent that we predict for One Data/Instance\\\n",
    "\n",
    "\n",
    "# Predict The Result and display\n",
    "prediction_output = model.predict(reshaped_Input_Data)\n",
    "print(prediction_output)"
   ]
  },
  {
   "cell_type": "code",
   "execution_count": null,
   "metadata": {},
   "outputs": [],
   "source": []
  }
 ],
 "metadata": {
  "kernelspec": {
   "display_name": "Python 3",
   "language": "python",
   "name": "python3"
  },
  "language_info": {
   "codemirror_mode": {
    "name": "ipython",
    "version": 3
   },
   "file_extension": ".py",
   "mimetype": "text/x-python",
   "name": "python",
   "nbconvert_exporter": "python",
   "pygments_lexer": "ipython3",
   "version": "3.10.11"
  },
  "orig_nbformat": 4
 },
 "nbformat": 4,
 "nbformat_minor": 2
}
