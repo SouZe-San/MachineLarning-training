{
 "cells": [
  {
   "attachments": {},
   "cell_type": "markdown",
   "metadata": {},
   "source": [
    "# Train Polynomial Regression model which create without using sklearn library\n"
   ]
  },
  {
   "attachments": {},
   "cell_type": "markdown",
   "metadata": {},
   "source": [
    "## Importing the libraries\n"
   ]
  },
  {
   "cell_type": "code",
   "execution_count": null,
   "metadata": {},
   "outputs": [],
   "source": [
    "import numpy as np\n",
    "import matplotlib.pyplot as plt\n",
    "\n",
    "from linear_regression import LinearRegression\n",
    "from polynomial import PolynomialFeatures"
   ]
  },
  {
   "attachments": {},
   "cell_type": "markdown",
   "metadata": {},
   "source": [
    "## Creating a dataset\n"
   ]
  },
  {
   "cell_type": "code",
   "execution_count": null,
   "metadata": {},
   "outputs": [],
   "source": [
    "X = 4*np.random.rand(100, 1) - 2\n",
    "Y = 4 * X**2 + 3 * X + 5 + np.random.randn(100, 1)"
   ]
  },
  {
   "attachments": {},
   "cell_type": "markdown",
   "metadata": {},
   "source": [
    "### Let's See How Normally linear regression works\n"
   ]
  },
  {
   "cell_type": "code",
   "execution_count": null,
   "metadata": {},
   "outputs": [],
   "source": [
    "linearModel = LinearRegression(0.01, 1000)\n",
    "linearModel.fit(X, Y)\n",
    "\n",
    "# After Fit with out Polynomial Features\n",
    "# See model Performance\n",
    "\n",
    "y_linearPredict = linearModel.predict(X)\n",
    "\n",
    "plt.scatter(X, Y)\n",
    "plt.plot(X, y_linearPredict, color='red')\n",
    "plt.show()"
   ]
  },
  {
   "attachments": {},
   "cell_type": "markdown",
   "metadata": {},
   "source": [
    "## Now Add Polynomial Features to the Linear Regression\n"
   ]
  },
  {
   "cell_type": "code",
   "execution_count": null,
   "metadata": {},
   "outputs": [],
   "source": [
    "# After Fit with Polynomial Features\n",
    "\n",
    "from sklearn.linear_model import LinearRegression\n",
    "polyModel = PolynomialFeatures(2)\n",
    "x_poly = polyModel.fit_transform(X)\n",
    "\n",
    "model2 = LinearRegression()\n",
    "model2.fit(x_poly, Y)\n",
    "\n",
    "x_Value = np.linspace(-2, 2, 100).reshape(-1, 1)\n",
    "X_polyValue = polyModel.fit_transform(x_Value)\n",
    "\n",
    "\n",
    "# Lets Predict\n",
    "y_polyPredict = model2.predict(X_polyValue)\n",
    "\n",
    "plt.scatter(X, Y)\n",
    "plt.plot(x_Value, y_polyPredict, color='red')"
   ]
  }
 ],
 "metadata": {
  "kernelspec": {
   "display_name": "Python 3",
   "language": "python",
   "name": "python3"
  },
  "language_info": {
   "codemirror_mode": {
    "name": "ipython",
    "version": 3
   },
   "file_extension": ".py",
   "mimetype": "text/x-python",
   "name": "python",
   "nbconvert_exporter": "python",
   "pygments_lexer": "ipython3",
   "version": "3.10.11"
  },
  "orig_nbformat": 4
 },
 "nbformat": 4,
 "nbformat_minor": 2
}
