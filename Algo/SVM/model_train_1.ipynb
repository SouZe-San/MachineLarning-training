{
 "cells": [
  {
   "attachments": {},
   "cell_type": "markdown",
   "metadata": {},
   "source": [
    "# Train SVM model\n"
   ]
  },
  {
   "cell_type": "code",
   "execution_count": null,
   "metadata": {},
   "outputs": [],
   "source": [
    "import numpy as np\n",
    "from sklearn import datasets\n",
    "from sklearn.model_selection import train_test_split\n",
    "import matplotlib.pyplot as plt\n",
    "\n",
    "from svm import support_vector_machine"
   ]
  },
  {
   "attachments": {},
   "cell_type": "markdown",
   "metadata": {},
   "source": [
    "### import data set And split them\n"
   ]
  },
  {
   "cell_type": "code",
   "execution_count": null,
   "metadata": {},
   "outputs": [],
   "source": [
    "X, y = datasets.make_blobs(\n",
    "    n_samples=50, n_features=2, centers=2, cluster_std=1.05, random_state=40\n",
    ")"
   ]
  },
  {
   "cell_type": "code",
   "execution_count": null,
   "metadata": {},
   "outputs": [],
   "source": [
    "x_train, x_test, y_train, y_test = train_test_split(\n",
    "    X, y, random_state=123, train_size=0.2)"
   ]
  },
  {
   "attachments": {},
   "cell_type": "markdown",
   "metadata": {},
   "source": [
    "### Impletment SVM model\n"
   ]
  },
  {
   "cell_type": "code",
   "execution_count": null,
   "metadata": {},
   "outputs": [],
   "source": [
    "model = support_vector_machine(\n",
    "    learning_rate=0.001, iterationNo=1000, lambda_var=0.01)\n",
    "\n",
    "model.fit(x_train, y_train)\n",
    "\n",
    "Y_predict = model.predict(x_test)"
   ]
  },
  {
   "cell_type": "code",
   "execution_count": null,
   "metadata": {},
   "outputs": [],
   "source": [
    "def accuracy(y_true, y_pred):\n",
    "    accuracy = np.sum(y_true == y_pred) / len(y_true)\n",
    "    return accuracy\n",
    "\n",
    "\n",
    "# its tell it have 100% accuracy for this data set\n",
    "print(\"ACcuracy :\", accuracy(y_test, Y_predict))"
   ]
  },
  {
   "attachments": {},
   "cell_type": "markdown",
   "metadata": {},
   "source": [
    "## Visulaization by plot\n"
   ]
  },
  {
   "cell_type": "code",
   "execution_count": null,
   "metadata": {},
   "outputs": [],
   "source": [
    "def visualize_svm():\n",
    "    def get_hyperplane_value(x, w, b, offset):\n",
    "        return (-w[0] * x + b + offset) / w[1]\n",
    "\n",
    "    fig = plt.figure()\n",
    "    ax = fig.add_subplot(1, 1, 1)\n",
    "    # data points\n",
    "    plt.scatter(X[:, 0], X[:, 1], marker=\"o\", c=y)\n",
    "\n",
    "    x0_1 = np.amin(X[:, 0])\n",
    "    x0_2 = np.amax(X[:, 0])\n",
    "    # main Hyperplane\n",
    "    x1_1 = get_hyperplane_value(x0_1, model.w, model.b, 0)\n",
    "    x1_2 = get_hyperplane_value(x0_2, model.w, model.b, 0)\n",
    "    # Positive hyperplane\n",
    "    x1_1_m = get_hyperplane_value(x0_1, model.w, model.b, -1)\n",
    "    x1_2_m = get_hyperplane_value(x0_2, model.w, model.b, -1)\n",
    "    # negative hyperplane\n",
    "    x1_1_p = get_hyperplane_value(x0_1, model.w, model.b, 1)\n",
    "    x1_2_p = get_hyperplane_value(x0_2, model.w, model.b, 1)\n",
    "\n",
    "    ax.plot([x0_1, x0_2], [x1_1, x1_2], \"g--\")\n",
    "    ax.plot([x0_1, x0_2], [x1_1_m, x1_2_m], \"purple\")\n",
    "    ax.plot([x0_1, x0_2], [x1_1_p, x1_2_p], \"yellow\")\n",
    "\n",
    "    x1_min = np.amin(X[:, 1])\n",
    "    x1_max = np.amax(X[:, 1])\n",
    "    ax.set_ylim([x1_min - 3, x1_max + 3])\n",
    "\n",
    "    plt.show()\n",
    "\n",
    "\n",
    "# Call\n",
    "visualize_svm()"
   ]
  }
 ],
 "metadata": {
  "kernelspec": {
   "display_name": "Python 3",
   "language": "python",
   "name": "python3"
  },
  "language_info": {
   "codemirror_mode": {
    "name": "ipython",
    "version": 3
   },
   "file_extension": ".py",
   "mimetype": "text/x-python",
   "name": "python",
   "nbconvert_exporter": "python",
   "pygments_lexer": "ipython3",
   "version": "3.10.11"
  },
  "orig_nbformat": 4
 },
 "nbformat": 4,
 "nbformat_minor": 2
}
